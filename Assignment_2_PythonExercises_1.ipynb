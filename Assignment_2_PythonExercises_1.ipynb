{
  "cells": [
    {
      "cell_type": "markdown",
      "metadata": {
        "id": "view-in-github",
        "colab_type": "text"
      },
      "source": [
        "<a href=\"https://colab.research.google.com/github/Gonzi1221/IA_IB_GHP/blob/main/Assignment_2_PythonExercises_1.ipynb\" target=\"_parent\"><img src=\"https://colab.research.google.com/assets/colab-badge.svg\" alt=\"Open In Colab\"/></a>"
      ]
    },
    {
      "cell_type": "code",
      "execution_count": 2,
      "metadata": {
        "colab": {
          "base_uri": "https://localhost:8080/"
        },
        "id": "PkKndnHTmNtn",
        "outputId": "306cf3b6-bd20-4c84-b1b7-1007c1a63d20"
      },
      "outputs": [
        {
          "output_type": "stream",
          "name": "stdout",
          "text": [
            "Number of words: 150\n",
            "Number of sentences: 4\n",
            "Number of paragraphs: 3\n",
            "Average word length: 5.90\n",
            "Most common words and their frequencies:\n",
            "el: 11\n",
            "los: 7\n",
            "experimento: 7\n",
            "de: 6\n",
            "en: 5\n",
            "y: 5\n",
            "laboratorio: 4\n",
            "la: 4\n",
            "del: 4\n",
            "un: 3\n"
          ]
        }
      ],
      "source": [
        "#Text Analysis Tool\n",
        "#Gonzalo Hernandez Ponzio 2003582\n",
        "\n",
        "import string\n",
        "from collections import Counter\n",
        "\n",
        "class TextAnalyzer:\n",
        "    def __init__(self, file_path):\n",
        "        self.file_path = file_path\n",
        "        self.text = self._read_file()\n",
        "        self.text_clean = self._clean_text() if self.text else \"\"\n",
        "\n",
        "    def _read_file(self):\n",
        "      try:\n",
        "        with open(self.file_path, 'r') as file:\n",
        "            return file.read()\n",
        "      except FileNotFoundError:\n",
        "            print(f\"Error: File not found at '{self.file_path}'\")\n",
        "            return None\n",
        "\n",
        "    def _clean_text(self):\n",
        "        # Handle the case where self.text is None\n",
        "        if self.text is None:\n",
        "            return \"\"\n",
        "        return self.text.translate(str.maketrans('', '', string.punctuation))\n",
        "\n",
        "    def count_words(self):\n",
        "        words = self.text_clean.split()\n",
        "        return len(words)\n",
        "\n",
        "    def count_sentences(self):\n",
        "\n",
        "        if self.text is None:\n",
        "            return 0\n",
        "        sentences = self.text.split('. ')\n",
        "        return len(sentences)\n",
        "\n",
        "    def count_paragraphs(self):\n",
        "        # Handle the case where self.text is None\n",
        "        if self.text is None:\n",
        "            return 0\n",
        "        paragraphs = self.text.split('\\n\\n')\n",
        "        return len(paragraphs)\n",
        "\n",
        "    def avg_word_length(self):\n",
        "        words = self.text_clean.split()\n",
        "        total_word_length = sum(len(word) for word in words)\n",
        "        return total_word_length / len(words) if words else 0\n",
        "\n",
        "    def most_common_words(self, num=10):\n",
        "        words = self.text_clean.split()\n",
        "        word_frequencies = Counter(words)\n",
        "        return word_frequencies.most_common(num)\n",
        "\n",
        "    def print_analysis(self):\n",
        "        print(f\"Number of words: {self.count_words()}\")\n",
        "        print(f\"Number of sentences: {self.count_sentences()}\")\n",
        "        print(f\"Number of paragraphs: {self.count_paragraphs()}\")\n",
        "        print(f\"Average word length: {self.avg_word_length():.2f}\")\n",
        "        print(\"Most common words and their frequencies:\")\n",
        "        for word, freq in self.most_common_words():\n",
        "            print(f\"{word}: {freq}\")\n",
        "\n",
        "# Example usage\n",
        "file_path = '/content/hola.txt'  # Make sure this path is correct\n",
        "analyzer = TextAnalyzer(file_path)\n",
        "analyzer.print_analysis()"
      ]
    },
    {
      "cell_type": "code",
      "execution_count": null,
      "metadata": {
        "id": "8RsG-cZAmnnq"
      },
      "outputs": [],
      "source": []
    },
    {
      "cell_type": "code",
      "execution_count": null,
      "metadata": {
        "colab": {
          "base_uri": "https://localhost:8080/"
        },
        "id": "mDu7Qiwam6Af",
        "outputId": "10c89413-55d1-45e3-ec74-cd19c52a9009"
      },
      "outputs": [
        {
          "name": "stdout",
          "output_type": "stream",
          "text": [
            "Welcome to Hangman!\n",
            "\n",
            "Word: _ _ _ _\n",
            "Attempts left: 6\n",
            "Guessed letters: \n",
            "Guess a letter: a\n",
            "\n",
            "Word: _ a _ a\n",
            "Attempts left: 6\n",
            "Guessed letters: a\n",
            "Guess a letter: p\n",
            "Incorrect guess.\n",
            "\n",
            "Word: _ a _ a\n",
            "Attempts left: 5\n",
            "Guessed letters: a, p\n",
            "Guess a letter: l\n",
            "Incorrect guess.\n",
            "\n",
            "Word: _ a _ a\n",
            "Attempts left: 4\n",
            "Guessed letters: a, p, l\n",
            "Guess a letter: h\n",
            "Incorrect guess.\n",
            "\n",
            "Word: _ a _ a\n",
            "Attempts left: 3\n",
            "Guessed letters: a, p, l, h\n",
            "Guess a letter: n\n",
            "Incorrect guess.\n",
            "\n",
            "Word: _ a _ a\n",
            "Attempts left: 2\n",
            "Guessed letters: a, p, l, h, n\n",
            "Guess a letter: r\n",
            "Incorrect guess.\n",
            "\n",
            "Word: _ a _ a\n",
            "Attempts left: 1\n",
            "Guessed letters: a, p, l, h, n, r\n",
            "Guess a letter: s\n",
            "Incorrect guess.\n",
            "\n",
            "You ran out of attempts! The word was: java\n"
          ]
        }
      ],
      "source": [
        "#Hangman Game\n",
        "#Gonzalo Hernandez Ponzio 2003582\n",
        "\n",
        "import random\n",
        "\n",
        "def hangman():\n",
        "    words = [\"hola\", \"python\", \"hangman\", \"programming\", \"minecraft\", \"youtube\"]\n",
        "    word = random.choice(words)\n",
        "    guessed_word = [\"_\"] * len(word)\n",
        "    attempts = 6\n",
        "    guessed_letters = []\n",
        "\n",
        "    print(\"Welcome to Hangman!\")\n",
        "\n",
        "    while attempts > 0:\n",
        "        print(f\"\\nWord: {' '.join(guessed_word)}\")\n",
        "        print(f\"Attempts left: {attempts}\")\n",
        "        print(f\"Guessed letters: {', '.join(guessed_letters)}\")\n",
        "\n",
        "        guess = input(\"Guess a letter: \").lower()\n",
        "\n",
        "        if guess in guessed_letters:\n",
        "            print(\"You already guessed that letter. Try again.\")\n",
        "            continue\n",
        "\n",
        "        guessed_letters.append(guess)\n",
        "\n",
        "        if guess in word:\n",
        "            for i, letter in enumerate(word):\n",
        "                if letter == guess:\n",
        "                    guessed_word[i] = guess\n",
        "            if \"_\" not in guessed_word:\n",
        "                print(f\"\\nCongratulations! You guessed the word: {word}\")\n",
        "                break\n",
        "        else:\n",
        "            attempts -= 1\n",
        "            print(\"Incorrect guess.\")\n",
        "\n",
        "    if attempts == 0:\n",
        "        print(f\"\\nYou ran out of attempts! The word was: {word}\")\n",
        "\n",
        "hangman()"
      ]
    },
    {
      "cell_type": "code",
      "execution_count": null,
      "metadata": {
        "colab": {
          "background_save": true,
          "base_uri": "https://localhost:8080/"
        },
        "id": "rTFvYP_5nhS7",
        "outputId": "d3b1baaf-b54b-4d2d-a142-9d772a239edf"
      },
      "outputs": [
        {
          "name": "stdout",
          "output_type": "stream",
          "text": [
            "Guess the number between 1 and 100!\n"
          ]
        }
      ],
      "source": [
        "#Number Guessing Game\n",
        "#Gonzalo Hernandez Ponzio 2003582\n",
        "import random\n",
        "\n",
        "def guess_number():\n",
        "    number = random.randint(1, 100)\n",
        "    print(\"Guess the number between 1 and 100!\")\n",
        "\n",
        "    while True:\n",
        "        guess = int(input(\"Enter your guess: \"))\n",
        "        if guess < number:\n",
        "          print(\"Too low! Try again.\")\n",
        "        elif guess > number:\n",
        "          print(\"Too high! Try again.\")\n",
        "        else:\n",
        "          print(f\"Congratulations! You guessed the number: {number}\")\n",
        "        break\n",
        "\n",
        "    print(\"Thanks for playing!\")\n",
        "\n",
        "guess_number()"
      ]
    }
  ],
  "metadata": {
    "colab": {
      "provenance": [],
      "authorship_tag": "ABX9TyMx+VH/QGv2V1rJfVBWo373",
      "include_colab_link": true
    },
    "kernelspec": {
      "display_name": "Python 3",
      "name": "python3"
    },
    "language_info": {
      "name": "python"
    }
  },
  "nbformat": 4,
  "nbformat_minor": 0
}