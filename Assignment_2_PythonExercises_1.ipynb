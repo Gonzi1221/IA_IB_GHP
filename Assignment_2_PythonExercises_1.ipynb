{
  "nbformat": 4,
  "nbformat_minor": 0,
  "metadata": {
    "colab": {
      "provenance": [],
      "authorship_tag": "ABX9TyOGfYCvcGg9YfnJ8B8rXMgs",
      "include_colab_link": true
    },
    "kernelspec": {
      "name": "python3",
      "display_name": "Python 3"
    },
    "language_info": {
      "name": "python"
    }
  },
  "cells": [
    {
      "cell_type": "markdown",
      "metadata": {
        "id": "view-in-github",
        "colab_type": "text"
      },
      "source": [
        "<a href=\"https://colab.research.google.com/github/Gonzi1221/IA_IB_GHP/blob/main/Assignment_2_PythonExercises_1.ipynb\" target=\"_parent\"><img src=\"https://colab.research.google.com/assets/colab-badge.svg\" alt=\"Open In Colab\"/></a>"
      ]
    },
    {
      "cell_type": "code",
      "source": [
        "#Text Analysis Tool\n",
        "#Gonzalo Hernandez Ponzio 2003582\n",
        "\n",
        "import string\n",
        "from collections import Counter\n",
        "\n",
        "class TextAnalyzer:\n",
        "    def __init__(self, file_path):\n",
        "        self.file_path = file_path\n",
        "        self.text = self._read_file()\n",
        "        self.text_clean = self._clean_text() if self.text else \"\"\n",
        "\n",
        "    def _read_file(self):\n",
        "      try:\n",
        "        with open(self.file_path, 'r') as file:\n",
        "            return file.read()\n",
        "      except FileNotFoundError:\n",
        "            print(f\"Error: File not found at '{self.file_path}'\")\n",
        "            return None\n",
        "\n",
        "    def _clean_text(self):\n",
        "        # Handle the case where self.text is None\n",
        "        if self.text is None:\n",
        "            return \"\"\n",
        "        return self.text.translate(str.maketrans('', '', string.punctuation))\n",
        "\n",
        "    def count_words(self):\n",
        "        words = self.text_clean.split()\n",
        "        return len(words)\n",
        "\n",
        "    def count_sentences(self):\n",
        "\n",
        "        if self.text is None:\n",
        "            return 0\n",
        "        sentences = self.text.split('. ')\n",
        "        return len(sentences)\n",
        "\n",
        "    def count_paragraphs(self):\n",
        "        # Handle the case where self.text is None\n",
        "        if self.text is None:\n",
        "            return 0\n",
        "        paragraphs = self.text.split('\\n\\n')\n",
        "        return len(paragraphs)\n",
        "\n",
        "    def avg_word_length(self):\n",
        "        words = self.text_clean.split()\n",
        "        total_word_length = sum(len(word) for word in words)\n",
        "        return total_word_length / len(words) if words else 0\n",
        "\n",
        "    def most_common_words(self, num=10):\n",
        "        words = self.text_clean.split()\n",
        "        word_frequencies = Counter(words)\n",
        "        return word_frequencies.most_common(num)\n",
        "\n",
        "    def print_analysis(self):\n",
        "        print(f\"Number of words: {self.count_words()}\")\n",
        "        print(f\"Number of sentences: {self.count_sentences()}\")\n",
        "        print(f\"Number of paragraphs: {self.count_paragraphs()}\")\n",
        "        print(f\"Average word length: {self.avg_word_length():.2f}\")\n",
        "        print(\"Most common words and their frequencies:\")\n",
        "        for word, freq in self.most_common_words():\n",
        "            print(f\"{word}: {freq}\")\n",
        "\n",
        "# Example usage\n",
        "file_path = 'c://Users//DELL//Documents//hola.txt'  # Make sure this path is correct\n",
        "analyzer = TextAnalyzer(file_path)\n",
        "analyzer.print_analysis()"
      ],
      "metadata": {
        "colab": {
          "base_uri": "https://localhost:8080/"
        },
        "id": "PkKndnHTmNtn",
        "outputId": "5b214aec-9488-4f91-8e16-f03bd44b49e7"
      },
      "execution_count": null,
      "outputs": [
        {
          "output_type": "stream",
          "name": "stdout",
          "text": [
            "Error: File not found at 'c://Users//DELL//Documents//hola.txt'\n",
            "Number of words: 0\n",
            "Number of sentences: 0\n",
            "Number of paragraphs: 0\n",
            "Average word length: 0.00\n",
            "Most common words and their frequencies:\n"
          ]
        }
      ]
    },
    {
      "cell_type": "code",
      "source": [],
      "metadata": {
        "id": "8RsG-cZAmnnq"
      },
      "execution_count": null,
      "outputs": []
    },
    {
      "cell_type": "code",
      "source": [
        "#Hangman Game\n",
        "#Gonzalo Hernandez Ponzio 2003582\n",
        "\n",
        "import random\n",
        "\n",
        "def hangman():\n",
        "    words = [\"hola\", \"python\", \"hangman\", \"programming\", \"minecraft\", \"youtube\"]\n",
        "    word = random.choice(words)\n",
        "    guessed_word = [\"_\"] * len(word)\n",
        "    attempts = 6\n",
        "    guessed_letters = []\n",
        "\n",
        "    print(\"Welcome to Hangman!\")\n",
        "\n",
        "    while attempts > 0:\n",
        "        print(f\"\\nWord: {' '.join(guessed_word)}\")\n",
        "        print(f\"Attempts left: {attempts}\")\n",
        "        print(f\"Guessed letters: {', '.join(guessed_letters)}\")\n",
        "\n",
        "        guess = input(\"Guess a letter: \").lower()\n",
        "\n",
        "        if guess in guessed_letters:\n",
        "            print(\"You already guessed that letter. Try again.\")\n",
        "            continue\n",
        "\n",
        "        guessed_letters.append(guess)\n",
        "\n",
        "        if guess in word:\n",
        "            for i, letter in enumerate(word):\n",
        "                if letter == guess:\n",
        "                    guessed_word[i] = guess\n",
        "            if \"_\" not in guessed_word:\n",
        "                print(f\"\\nCongratulations! You guessed the word: {word}\")\n",
        "                break\n",
        "        else:\n",
        "            attempts -= 1\n",
        "            print(\"Incorrect guess.\")\n",
        "\n",
        "    if attempts == 0:\n",
        "        print(f\"\\nYou ran out of attempts! The word was: {word}\")\n",
        "\n",
        "hangman()"
      ],
      "metadata": {
        "colab": {
          "base_uri": "https://localhost:8080/"
        },
        "id": "mDu7Qiwam6Af",
        "outputId": "10c89413-55d1-45e3-ec74-cd19c52a9009"
      },
      "execution_count": null,
      "outputs": [
        {
          "output_type": "stream",
          "name": "stdout",
          "text": [
            "Welcome to Hangman!\n",
            "\n",
            "Word: _ _ _ _\n",
            "Attempts left: 6\n",
            "Guessed letters: \n",
            "Guess a letter: a\n",
            "\n",
            "Word: _ a _ a\n",
            "Attempts left: 6\n",
            "Guessed letters: a\n",
            "Guess a letter: p\n",
            "Incorrect guess.\n",
            "\n",
            "Word: _ a _ a\n",
            "Attempts left: 5\n",
            "Guessed letters: a, p\n",
            "Guess a letter: l\n",
            "Incorrect guess.\n",
            "\n",
            "Word: _ a _ a\n",
            "Attempts left: 4\n",
            "Guessed letters: a, p, l\n",
            "Guess a letter: h\n",
            "Incorrect guess.\n",
            "\n",
            "Word: _ a _ a\n",
            "Attempts left: 3\n",
            "Guessed letters: a, p, l, h\n",
            "Guess a letter: n\n",
            "Incorrect guess.\n",
            "\n",
            "Word: _ a _ a\n",
            "Attempts left: 2\n",
            "Guessed letters: a, p, l, h, n\n",
            "Guess a letter: r\n",
            "Incorrect guess.\n",
            "\n",
            "Word: _ a _ a\n",
            "Attempts left: 1\n",
            "Guessed letters: a, p, l, h, n, r\n",
            "Guess a letter: s\n",
            "Incorrect guess.\n",
            "\n",
            "You ran out of attempts! The word was: java\n"
          ]
        }
      ]
    },
    {
      "cell_type": "code",
      "source": [
        "#Number Guessing Game\n",
        "#Gonzalo Hernandez Ponzio 2003582\n",
        "import random\n",
        "\n",
        "def guess_number():\n",
        "    number = random.randint(1, 100)\n",
        "    print(\"Guess the number between 1 and 100!\")\n",
        "\n",
        "    while True:\n",
        "        guess = int(input(\"Enter your guess: \"))\n",
        "        if guess < number:\n",
        "            print(\"Too low! Try again.\")\n",
        "        elif guess > number:\n",
        "            print(\"Too high! Try again.\")\n",
        "        else:\n",
        "            print(f\"Congratulations! You guessed the number: {number}\")\n",
        "            break\n",
        "\n",
        "    print(\"Thanks for playing!\")\n",
        "\n",
        "guess_number()"
      ],
      "metadata": {
        "id": "rTFvYP_5nhS7",
        "colab": {
          "base_uri": "https://localhost:8080/"
        },
        "outputId": "f1c3fc45-7936-4051-c6eb-d95c2a18e1ba"
      },
      "execution_count": null,
      "outputs": [
        {
          "output_type": "stream",
          "name": "stdout",
          "text": [
            "Guess the number between 1 and 100!\n",
            "Enter your guess: 50\n",
            "Too high! Try again.\n",
            "Enter your guess: 25\n",
            "Too high! Try again.\n",
            "Enter your guess: 10\n",
            "Too low! Try again.\n",
            "Enter your guess: 20\n",
            "Too high! Try again.\n",
            "Enter your guess: 15\n",
            "Too high! Try again.\n",
            "Enter your guess: 11\n",
            "Too low! Try again.\n",
            "Enter your guess: 13\n",
            "Congratulations! You guessed the number: 13\n",
            "Thanks for playing!\n"
          ]
        }
      ]
    }
  ]
}