{
  "nbformat": 4,
  "nbformat_minor": 0,
  "metadata": {
    "colab": {
      "provenance": [],
      "authorship_tag": "ABX9TyNFN8aJj3a/vxKvtZ6rJHAn",
      "include_colab_link": true
    },
    "kernelspec": {
      "name": "python3",
      "display_name": "Python 3"
    },
    "language_info": {
      "name": "python"
    }
  },
  "cells": [
    {
      "cell_type": "markdown",
      "metadata": {
        "id": "view-in-github",
        "colab_type": "text"
      },
      "source": [
        "<a href=\"https://colab.research.google.com/github/Gonzi1221/IA_IB_GHP/blob/main/Assignment_6_.ipynb\" target=\"_parent\"><img src=\"https://colab.research.google.com/assets/colab-badge.svg\" alt=\"Open In Colab\"/></a>"
      ]
    },
    {
      "cell_type": "code",
      "execution_count": 1,
      "metadata": {
        "id": "IzBMiQH6YJuZ"
      },
      "outputs": [],
      "source": [
        "# Artificial Neural Network: feedforward\n",
        "# Gonzalo Hernandez Ponzio, 2003582,\n",
        "# class time: N4-N6.\n",
        "\n",
        "# Import necessary libraries\n",
        "import numpy as np\n",
        "import tensorflow as tf\n",
        "from tensorflow.keras.models import Sequential\n",
        "from tensorflow.keras.layers import Dense, Flatten\n",
        "from tensorflow.keras.datasets import mnist\n",
        "from tensorflow.keras.utils import to_categorical\n"
      ]
    },
    {
      "cell_type": "code",
      "source": [
        "# Load the MNIST dataset\n",
        "(train_data, train_labels), (test_data, test_labels) = mnist.load_data()\n",
        "\n",
        "# Normalize the data\n",
        "train_data, test_data = train_data / 255.0, test_data / 255.0\n",
        "\n",
        "# One-hot encode the labels\n",
        "train_labels = to_categorical(train_labels, 10)\n",
        "test_labels = to_categorical(test_labels, 10)"
      ],
      "metadata": {
        "colab": {
          "base_uri": "https://localhost:8080/"
        },
        "id": "omc_ctzBYMj8",
        "outputId": "c9240ea2-97d9-456b-d7e8-a42349ea6088"
      },
      "execution_count": 2,
      "outputs": [
        {
          "output_type": "stream",
          "name": "stdout",
          "text": [
            "Downloading data from https://storage.googleapis.com/tensorflow/tf-keras-datasets/mnist.npz\n",
            "\u001b[1m11490434/11490434\u001b[0m \u001b[32m━━━━━━━━━━━━━━━━━━━━\u001b[0m\u001b[37m\u001b[0m \u001b[1m1s\u001b[0m 0us/step\n"
          ]
        }
      ]
    },
    {
      "cell_type": "code",
      "source": [
        "# Define the Feedforward Neural Network structure\n",
        "model = Sequential([\n",
        "    Flatten(input_shape=(28, 28)),          # Flatten the 2D images into 1D vectors\n",
        "    Dense(128, activation='relu'),           # Hidden layer with 128 neurons and ReLU activation\n",
        "    Dense(64, activation='relu'),            # Additional hidden layer\n",
        "    Dense(10, activation='softmax')          # Output layer with softmax activation\n",
        "])\n",
        "\n",
        "# Compile the model\n",
        "model.compile(optimizer='adam',              # Optimizer\n",
        "              loss='categorical_crossentropy', # Loss function\n",
        "              metrics=['accuracy'])           # Evaluation metric\n",
        "\n",
        "# Train the model\n",
        "model.fit(train_data, train_labels, epochs=5, batch_size=32, validation_split=0.1)\n"
      ],
      "metadata": {
        "colab": {
          "base_uri": "https://localhost:8080/"
        },
        "id": "JFTL-WttY-fZ",
        "outputId": "eff0ff1b-63c8-4d7c-c3c4-91a77986eae3"
      },
      "execution_count": 3,
      "outputs": [
        {
          "output_type": "stream",
          "name": "stderr",
          "text": [
            "/usr/local/lib/python3.10/dist-packages/keras/src/layers/reshaping/flatten.py:37: UserWarning: Do not pass an `input_shape`/`input_dim` argument to a layer. When using Sequential models, prefer using an `Input(shape)` object as the first layer in the model instead.\n",
            "  super().__init__(**kwargs)\n"
          ]
        },
        {
          "output_type": "stream",
          "name": "stdout",
          "text": [
            "Epoch 1/5\n",
            "\u001b[1m1688/1688\u001b[0m \u001b[32m━━━━━━━━━━━━━━━━━━━━\u001b[0m\u001b[37m\u001b[0m \u001b[1m8s\u001b[0m 4ms/step - accuracy: 0.8765 - loss: 0.4350 - val_accuracy: 0.9710 - val_loss: 0.1031\n",
            "Epoch 2/5\n",
            "\u001b[1m1688/1688\u001b[0m \u001b[32m━━━━━━━━━━━━━━━━━━━━\u001b[0m\u001b[37m\u001b[0m \u001b[1m8s\u001b[0m 3ms/step - accuracy: 0.9677 - loss: 0.1050 - val_accuracy: 0.9660 - val_loss: 0.1098\n",
            "Epoch 3/5\n",
            "\u001b[1m1688/1688\u001b[0m \u001b[32m━━━━━━━━━━━━━━━━━━━━\u001b[0m\u001b[37m\u001b[0m \u001b[1m7s\u001b[0m 4ms/step - accuracy: 0.9786 - loss: 0.0700 - val_accuracy: 0.9763 - val_loss: 0.0819\n",
            "Epoch 4/5\n",
            "\u001b[1m1688/1688\u001b[0m \u001b[32m━━━━━━━━━━━━━━━━━━━━\u001b[0m\u001b[37m\u001b[0m \u001b[1m10s\u001b[0m 4ms/step - accuracy: 0.9848 - loss: 0.0490 - val_accuracy: 0.9763 - val_loss: 0.0837\n",
            "Epoch 5/5\n",
            "\u001b[1m1688/1688\u001b[0m \u001b[32m━━━━━━━━━━━━━━━━━━━━\u001b[0m\u001b[37m\u001b[0m \u001b[1m5s\u001b[0m 3ms/step - accuracy: 0.9876 - loss: 0.0395 - val_accuracy: 0.9757 - val_loss: 0.0935\n"
          ]
        },
        {
          "output_type": "execute_result",
          "data": {
            "text/plain": [
              "<keras.src.callbacks.history.History at 0x7ef54effd450>"
            ]
          },
          "metadata": {},
          "execution_count": 3
        }
      ]
    },
    {
      "cell_type": "code",
      "source": [
        "# Evaluate the model on the test dataset\n",
        "test_loss, test_accuracy = model.evaluate(test_data, test_labels)\n",
        "print(f'Test Accuracy: {test_accuracy:.4f}')"
      ],
      "metadata": {
        "colab": {
          "base_uri": "https://localhost:8080/"
        },
        "id": "8R7r2xk6ZEOH",
        "outputId": "fb166348-bccf-45f8-cb3e-e1a6ab4b838d"
      },
      "execution_count": 4,
      "outputs": [
        {
          "output_type": "stream",
          "name": "stdout",
          "text": [
            "\u001b[1m313/313\u001b[0m \u001b[32m━━━━━━━━━━━━━━━━━━━━\u001b[0m\u001b[37m\u001b[0m \u001b[1m0s\u001b[0m 1ms/step - accuracy: 0.9708 - loss: 0.1174\n",
            "Test Accuracy: 0.9727\n"
          ]
        }
      ]
    },
    {
      "cell_type": "code",
      "source": [
        "# Perform predictions and display examples with their actual values\n",
        "predictions = model.predict(test_data)\n",
        "for i in range(10):\n",
        "    predicted_label = np.argmax(predictions[i])\n",
        "    actual_label = np.argmax(test_labels[i])\n",
        "    print(f\"Prediction: {predicted_label}, Actual: {actual_label}\")\n"
      ],
      "metadata": {
        "colab": {
          "base_uri": "https://localhost:8080/"
        },
        "id": "tZGpOEoFZHFd",
        "outputId": "1cd4a8ee-d23e-4e3a-db10-7d7fc270519e"
      },
      "execution_count": 8,
      "outputs": [
        {
          "output_type": "stream",
          "name": "stdout",
          "text": [
            "\u001b[1m313/313\u001b[0m \u001b[32m━━━━━━━━━━━━━━━━━━━━\u001b[0m\u001b[37m\u001b[0m \u001b[1m1s\u001b[0m 2ms/step\n",
            "Prediction: 7, Actual: 7\n",
            "Prediction: 2, Actual: 2\n",
            "Prediction: 1, Actual: 1\n",
            "Prediction: 0, Actual: 0\n",
            "Prediction: 4, Actual: 4\n",
            "Prediction: 1, Actual: 1\n",
            "Prediction: 4, Actual: 4\n",
            "Prediction: 9, Actual: 9\n",
            "Prediction: 5, Actual: 5\n",
            "Prediction: 9, Actual: 9\n"
          ]
        }
      ]
    }
  ]
}